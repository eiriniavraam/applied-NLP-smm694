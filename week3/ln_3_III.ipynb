{
 "cells": [
  {
   "cell_type": "markdown",
   "metadata": {
    "slideshow": {
     "slide_type": "slide"
    }
   },
   "source": [
    "# Session 3, part III\n",
    "\n",
    "## Vector semantics and embeddings\n",
    "\n",
    "<img src=\"images/_0.jpg\" width=\"50%\">"
   ]
  },
  {
   "cell_type": "markdown",
   "metadata": {
    "slideshow": {
     "slide_type": "slide"
    }
   },
   "source": [
    "Learning goals\n",
    "============\n",
    "\n",
    "\n",
    "- Appreciating the anatomy of word2vec  ⬅️\n",
    "- Understanding the various steps to train ad hoc embeddings \n",
    "- Assigning a role to new forms of embeddings"
   ]
  },
  {
   "cell_type": "markdown",
   "metadata": {
    "slideshow": {
     "slide_type": "subslide"
    }
   },
   "source": [
    "Learning $\\texttt{word2vec}$ embeddings\n",
    "=============================\n",
    "\n",
    "<img src=\"images/_6.png\" width=\"80%\">\n",
    "\n",
    "Source is Jurafsky and Martin (2019)."
   ]
  },
  {
   "cell_type": "markdown",
   "metadata": {
    "slideshow": {
     "slide_type": "subslide"
    }
   },
   "source": [
    "Interpreting embeddings: Caveat\n",
    "===========================\n",
    "\n",
    "Semantic similarities depend on window size $C$:\n",
    "\n",
    "$C = ±2 \\rightarrow$ the nearest words to Hogwarts:\n",
    "+ sunnydale\n",
    "+ evernight\n",
    "\n",
    "$C = ±5 \\rightarrow$  the nearest words to Hogwarts:\n",
    "+ Dumbledore\n",
    "+ Malfoy\n",
    "+ halfblood"
   ]
  },
  {
   "cell_type": "markdown",
   "metadata": {
    "slideshow": {
     "slide_type": "subslide"
    }
   },
   "source": [
    "Traversing the embedding to find related words\n",
    "======================================\n",
    "\n",
    "As Manning notes: \"The Euclidean distance (or cosine similarity) between two word vectors provides an effective method for measuring the linguistic or semantic similarity of the corresponding words. Sometimes, the nearest neighbors according to this metric reveal rare but relevant words that lie outside an average human's vocabulary\" \n",
    "\n",
    "For example, here are the closest words to the target word frog:\n",
    "\n",
    "- frog\n",
    "- frogs\n",
    "- toad\n",
    "- litoria\n",
    "- leptodactylidae\n",
    "- rana\n",
    "- lizard\n",
    "- eleutherodactylus"
   ]
  },
  {
   "cell_type": "markdown",
   "metadata": {
    "slideshow": {
     "slide_type": "subslide"
    }
   },
   "source": [
    "Embedding capture relational meanings\n",
    "================================="
   ]
  },
  {
   "cell_type": "markdown",
   "metadata": {
    "slideshow": {
     "slide_type": "fragment"
    }
   },
   "source": [
    "```\n",
    "vector(‘king’) - vector(‘man’) + vector(‘woman’) = vector(‘queen’)\n",
    "```"
   ]
  },
  {
   "cell_type": "markdown",
   "metadata": {
    "slideshow": {
     "slide_type": "fragment"
    }
   },
   "source": [
    "```\n",
    "vector(‘Paris’) - vector(‘France’) + vector(‘Italy’) = vector(‘Rome’)\n",
    "```"
   ]
  },
  {
   "cell_type": "markdown",
   "metadata": {
    "slideshow": {
     "slide_type": "subslide"
    }
   },
   "source": [
    "Visual inspection of embeddings (1/2)\n",
    "===============================\n",
    "\n",
    "<img src=\"images/_8.png\" width=\"60%\">"
   ]
  },
  {
   "cell_type": "markdown",
   "metadata": {
    "slideshow": {
     "slide_type": "subslide"
    }
   },
   "source": [
    "Visual inspection of embeddings (2/2)\n",
    "===============================\n",
    "\n",
    "<img src=\"images/_9.png\" width=\"60%\">"
   ]
  },
  {
   "cell_type": "markdown",
   "metadata": {
    "slideshow": {
     "slide_type": "slide"
    }
   },
   "source": [
    "Embeddings: Fields of application\n",
    "============================\n",
    "\n",
    "+ business and economic analysis (examples are scant)\n",
    "+ cultural analysis"
   ]
  },
  {
   "cell_type": "markdown",
   "metadata": {
    "slideshow": {
     "slide_type": "slide"
    }
   },
   "source": [
    "Studying changes in meanings with Google Books data\n",
    "=============================================="
   ]
  },
  {
   "cell_type": "markdown",
   "metadata": {
    "slideshow": {
     "slide_type": "subslide"
    }
   },
   "source": [
    "<img src=\"images/_10.png\" width=\"60%\">\n",
    "\n",
    "Source: see various works by Dr. W. Hamilton (McGill U.)"
   ]
  },
  {
   "cell_type": "markdown",
   "metadata": {
    "slideshow": {
     "slide_type": "subslide"
    }
   },
   "source": [
    "<img src=\"images/_11.png\" width=\"60%\">"
   ]
  },
  {
   "cell_type": "markdown",
   "metadata": {
    "slideshow": {
     "slide_type": "slide"
    }
   },
   "source": [
    "Using embeddings as a historical tool to study bias\n",
    "==========================================\n",
    "\n",
    "<img src=\"images/_12.png\" width=\"60%\">"
   ]
  },
  {
   "cell_type": "markdown",
   "metadata": {
    "slideshow": {
     "slide_type": "subslide"
    }
   },
   "source": [
    "Using embeddings as a historical tool to study bias\n",
    "==========================================\n",
    "\n",
    "The paper in a nutshell:\n",
    "\n",
    "+ embeddings for competence adjectives are biased toward men\n",
    "  - smart, wise, brilliant, intelligent, resourceful, thoughtful, logical, etc.\n",
    "+ this bias is slowly decreasing over time"
   ]
  }
 ],
 "metadata": {
  "celltoolbar": "Slideshow",
  "kernelspec": {
   "display_name": "Python 3",
   "language": "python",
   "name": "python3"
  },
  "language_info": {
   "codemirror_mode": {
    "name": "ipython",
    "version": 3
   },
   "file_extension": ".py",
   "mimetype": "text/x-python",
   "name": "python",
   "nbconvert_exporter": "python",
   "pygments_lexer": "ipython3",
   "version": "3.8.10"
  },
  "latex_envs": {
   "LaTeX_envs_menu_present": true,
   "autoclose": false,
   "autocomplete": true,
   "bibliofile": "biblio.bib",
   "cite_by": "apalike",
   "current_citInitial": 1,
   "eqLabelWithNumbers": true,
   "eqNumInitial": 1,
   "hotkeys": {
    "equation": "Ctrl-E",
    "itemize": "Ctrl-I"
   },
   "labels_anchors": false,
   "latex_user_defs": false,
   "report_style_numbering": false,
   "user_envs_cfg": false
  },
  "toc": {
   "base_numbering": 1,
   "nav_menu": {},
   "number_sections": false,
   "sideBar": true,
   "skip_h1_title": false,
   "title_cell": "Table of Contents",
   "title_sidebar": "Contents",
   "toc_cell": false,
   "toc_position": {},
   "toc_section_display": true,
   "toc_window_display": false
  },
  "varInspector": {
   "cols": {
    "lenName": 16,
    "lenType": 16,
    "lenVar": 40
   },
   "kernels_config": {
    "python": {
     "delete_cmd_postfix": "",
     "delete_cmd_prefix": "del ",
     "library": "var_list.py",
     "varRefreshCmd": "print(var_dic_list())"
    },
    "r": {
     "delete_cmd_postfix": ") ",
     "delete_cmd_prefix": "rm(",
     "library": "var_list.r",
     "varRefreshCmd": "cat(var_dic_list()) "
    }
   },
   "types_to_exclude": [
    "module",
    "function",
    "builtin_function_or_method",
    "instance",
    "_Feature"
   ],
   "window_display": false
  }
 },
 "nbformat": 4,
 "nbformat_minor": 4
}
