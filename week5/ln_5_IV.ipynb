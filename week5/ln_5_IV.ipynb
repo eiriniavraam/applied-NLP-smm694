{
 "cells": [
  {
   "cell_type": "markdown",
   "metadata": {
    "slideshow": {
     "slide_type": "slide"
    }
   },
   "source": [
    "# Week 5, part IV\n",
    "\n",
    "# ―Sentiment, affect, and connotation\n",
    "\n",
    "<img src=\"images/_1.jpeg\" width=\"50%\">"
   ]
  },
  {
   "cell_type": "markdown",
   "metadata": {
    "slideshow": {
     "slide_type": "slide"
    }
   },
   "source": [
    "# Over and beyond SA...\n",
    "\n",
    "SA focuses on a very specific portion of a braoder gamut containing affective states.\n",
    "\n",
    "Prior literature (Scherer, 2000) suggests the existence of some families of affectives states that can be investigated with NLP theories and tools:\n",
    "\n",
    "+ **emotion:** relatively brief episode of response to the evaluation of an \n",
    "  external or internal event as being of major significance (angry, sad, \n",
    "  joyful, fearful, ashamed, proud, elated, desperate)\n",
    "+ **mood:** diffuse affect state, most pronounced as change in subjective feeling, \n",
    "  of low intensity but relatively long duration, often without apparent cause\n",
    "  (cheerful, gloomy, supportive, contemptous, friendly)\n",
    " "
   ]
  },
  {
   "cell_type": "markdown",
   "metadata": {
    "slideshow": {
     "slide_type": "subslide"
    }
   },
   "source": [
    "# Over and beyond SA...(cont'd)\n",
    "\n",
    "+ **interpersonal stance:** affective stance taken toward another person in a \n",
    "  specific interaction, coloring the interpersonal exchange in a situation\n",
    "  (distant, cold, warm, supportive, contemptous, friendly)\n",
    "+ **attitudes:** relatively enduring, affectively colored beliefs, preferences, and\n",
    "  predispositions towards objects or persons (liking, loving, hating, valuing\n",
    "  desiring)\n",
    "+ **personality traits:** emotionally laden, stable personality dispositions and\n",
    "  behavior tendencies, typical for a person (nervous, anxious, reckless,   \n",
    "  hostile, jealous)\n",
    " "
   ]
  },
  {
   "cell_type": "markdown",
   "metadata": {
    "slideshow": {
     "slide_type": "slide"
    }
   },
   "source": [
    "# Affect lexicons\n",
    "\n",
    "+ the study of affect states via NLP draws upon affect lexicons\n",
    "+ the key premise of affect lexicons is that words have affect \n",
    "  meanings ― i.e., they have connotations\n",
    "+ affect lexicons can be distinguished along several dimensions:\n",
    "  * polar lexicons Vs. cluster-based lexicons\n",
    "  * human-annotated/supervised lexicons Vs. semi-supervised lexicons"
   ]
  },
  {
   "cell_type": "markdown",
   "metadata": {
    "slideshow": {
     "slide_type": "subslide"
    }
   },
   "source": [
    "# Example of polar, human-annotated affect lexicon\n",
    "\n",
    "<img src=\"images/_5.png\" width=\"70%\">"
   ]
  },
  {
   "cell_type": "markdown",
   "metadata": {
    "slideshow": {
     "slide_type": "subslide"
    }
   },
   "source": [
    "# Example of cluster-based, human-annotated affect lexicon\n",
    "\n",
    "<img src=\"images/_6.png\" width=\"60%\">"
   ]
  },
  {
   "cell_type": "markdown",
   "metadata": {
    "slideshow": {
     "slide_type": "subslide"
    }
   },
   "source": [
    "# Semi-supervised induction of affect lexicons\n",
    "\n",
    "There are two popular alternatives to create affect lexicons using a \n",
    "semi-supervised approach:\n",
    "    \n",
    "+ semantic axis methods\n",
    "+ label propagation"
   ]
  },
  {
   "cell_type": "markdown",
   "metadata": {
    "slideshow": {
     "slide_type": "subslide"
    }
   },
   "source": [
    "# Semantic Axis Method (SAM)\n",
    "\n",
    "The semantic axis method builds on four steps:\n",
    "\n",
    "1. pole-by-pole (or aspect-by-aspect), fixing seed words (hand-curated task)\n",
    "2. getting the embedding for each word\n",
    "3. getting the embedding for each pole (or aspect)\n",
    "4. getting the semantic axis\n",
    "5. appreciating the position of words in the semantic axis"
   ]
  },
  {
   "cell_type": "markdown",
   "metadata": {
    "slideshow": {
     "slide_type": "subslide"
    }
   },
   "source": [
    "# SAM: Step 1\n",
    "\n",
    "Based on target affect states or poles (e.g., 'good' and 'bad'), a list\n",
    "of seed words is compiled.\n",
    "\n",
    "**Caveat**: word meanings are relational in nature:\n",
    "\n",
    "+ meanings change based on the linguistic context for a lexical item\n",
    "+ meanings change across space and time\n",
    "+ thus, make sure your seed words 'make sense' given the dataset at hand\n",
    "\n",
    "<img src=\"images/_7.png\" width=\"50%\">"
   ]
  },
  {
   "cell_type": "markdown",
   "metadata": {
    "slideshow": {
     "slide_type": "subslide"
    }
   },
   "source": [
    "# SAM: Step 2 ― getting word embeddings\n",
    "\n",
    "Each target word has to be associated with a vector. Mainly, there are two\n",
    "alternatives:\n",
    "\n",
    "+ using off-the-shelf embeddings \n",
    "+ building your own embedding (desirable for idiosyncratic text corpora)"
   ]
  },
  {
   "cell_type": "markdown",
   "metadata": {
    "slideshow": {
     "slide_type": "subslide"
    }
   },
   "source": [
    "# SAM: Step 3 ― getting pole (aspect) embeddings\n",
    "\n",
    "Once word vectors are available, we need to create embeddings for the poles (aspects).\n",
    "\n",
    "This can be achieved by taking the centroid of the word vectors associated with\n",
    "each pole (or state).\n",
    "\n",
    "Let's consider two sets of word vectors:\n",
    "\n",
    "$S^{+} = \\{E{w_{1}^{+}}, E{w_{2}^{+}}, ..., E{w_{n}^{+}}\\}$\n",
    "\n",
    "and\n",
    "\n",
    "$S^{-} = \\{E{w_{1}^{-}}, E{w_{2}^{-}}, ..., E{w_{n}^{-}}\\}$\n",
    "\n",
    "where $S^{+}$ isf the embedding of, say, positive seed words,\n",
    "and $S^{-}$ is the embedding of negative words.\n",
    "\n",
    "The embeddings of the positive and the negative poles are, respectively:\n",
    "\n",
    "$V^{+} = \\frac{1}{n} \\sum_{i = 1}^{n} E(w_{i}^{+})$\n",
    "\n",
    "$V^{-} = \\frac{1}{m} \\sum_{i = 1}^{m} E(w_{i}^{-})$"
   ]
  },
  {
   "cell_type": "markdown",
   "metadata": {
    "slideshow": {
     "slide_type": "subslide"
    }
   },
   "source": [
    "# SAM: Step 4 ― creating a semantic axis\n",
    "\n",
    "The semantic axis can be computed by subctracting the vectors of the poles \n",
    "(aspects) as follows:\n",
    "\n",
    "$V_{axis} = V^{+} - V^{-}$"
   ]
  },
  {
   "cell_type": "markdown",
   "metadata": {
    "slideshow": {
     "slide_type": "subslide"
    }
   },
   "source": [
    "# SAM: Step 5 ― locating word positions along the semantic axis\n",
    "\n",
    "The position of a target word $w$ along the semantic axis can be computed\n",
    "(for example) as the cosine similarity of $w$ and $V_{axis}$:\n",
    "\n",
    "$score(w) = \\frac {E(w) \\cdot V_{axis}}{||E(w)|| ||V_{axis}||}$"
   ]
  },
  {
   "cell_type": "markdown",
   "metadata": {
    "slideshow": {
     "slide_type": "subslide"
    }
   },
   "source": [
    "# Label propagation\n",
    "\n",
    "<img src=\"images/_8.png\" width=\"80%\">"
   ]
  }
 ],
 "metadata": {
  "celltoolbar": "Slideshow",
  "kernelspec": {
   "display_name": "Python 3",
   "language": "python",
   "name": "python3"
  },
  "language_info": {
   "codemirror_mode": {
    "name": "ipython",
    "version": 3
   },
   "file_extension": ".py",
   "mimetype": "text/x-python",
   "name": "python",
   "nbconvert_exporter": "python",
   "pygments_lexer": "ipython3",
   "version": "3.9.0"
  },
  "latex_envs": {
   "LaTeX_envs_menu_present": true,
   "autoclose": false,
   "autocomplete": true,
   "bibliofile": "biblio.bib",
   "cite_by": "apalike",
   "current_citInitial": 1,
   "eqLabelWithNumbers": true,
   "eqNumInitial": 1,
   "hotkeys": {
    "equation": "Ctrl-E",
    "itemize": "Ctrl-I"
   },
   "labels_anchors": false,
   "latex_user_defs": false,
   "report_style_numbering": false,
   "user_envs_cfg": false
  },
  "toc": {
   "base_numbering": 1,
   "nav_menu": {},
   "number_sections": false,
   "sideBar": true,
   "skip_h1_title": false,
   "title_cell": "Table of Contents",
   "title_sidebar": "Contents",
   "toc_cell": false,
   "toc_position": {},
   "toc_section_display": true,
   "toc_window_display": false
  },
  "toc-showtags": false,
  "varInspector": {
   "cols": {
    "lenName": 16,
    "lenType": 16,
    "lenVar": 40
   },
   "kernels_config": {
    "python": {
     "delete_cmd_postfix": "",
     "delete_cmd_prefix": "del ",
     "library": "var_list.py",
     "varRefreshCmd": "print(var_dic_list())"
    },
    "r": {
     "delete_cmd_postfix": ") ",
     "delete_cmd_prefix": "rm(",
     "library": "var_list.r",
     "varRefreshCmd": "cat(var_dic_list()) "
    }
   },
   "types_to_exclude": [
    "module",
    "function",
    "builtin_function_or_method",
    "instance",
    "_Feature"
   ],
   "window_display": false
  }
 },
 "nbformat": 4,
 "nbformat_minor": 4
}
