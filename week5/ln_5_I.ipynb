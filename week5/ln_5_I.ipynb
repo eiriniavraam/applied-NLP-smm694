{
 "cells": [
  {
   "cell_type": "markdown",
   "metadata": {
    "slideshow": {
     "slide_type": "slide"
    }
   },
   "source": [
    "# Week 5, part I \n",
    "\n",
    "# ―Sentiment, affect, and connotation\n",
    "\n",
    "<img src=\"images/_1.jpeg\" width=\"50%\">"
   ]
  },
  {
   "cell_type": "markdown",
   "metadata": {
    "slideshow": {
     "slide_type": "slide"
    }
   },
   "source": [
    "# Why is sentiment analysis (SA) so popular?\n",
    "\n",
    "+ Extracting audiences' sentiment is a general-class task:\n",
    "  * a review of a movie, book, or product on the web expresses the author’s \n",
    "    sentiment toward the product\n",
    "  * an editorial or political text expresses sentiment toward a candidate or \n",
    "    political action\n",
    "+ Online behavior offers germane conditions to SA: \n",
    "  * social media exhibit sharp community structures (e.g., \n",
    "    [Schmidt et al. 2017][1]) \n",
    "  * hence, opposing views are fostered (e.g., [Ball et al. 2018][2])\n",
    "  * bots increase exposure to negative and inflammatory content \n",
    "    ([Stella, Ferrara, & Domenico 2018][3])\n",
    "  * the marginal costs of engaging in social sanctioning $\\rightarrow$ 0:\n",
    "    - online firestorms emerge frequently ([Rost, Stahel & Frey, 2016][4])\n",
    "  * ... and the costs of being sanctioned $\\rightarrow$ 0\n",
    "\n",
    "  [1]: https://www.pnas.org/content/114/12/3035.short\n",
    "  [2]: pnas.org/content/115/37/9216?mod=article_inline\n",
    "  [3]: https://www.pnas.org/content/115/49/12435.short\n",
    "  [4]: https://journals.plos.org/plosone/article%3Fid%3D10.1371/journal.pone.0155923"
   ]
  },
  {
   "cell_type": "markdown",
   "metadata": {
    "slideshow": {
     "slide_type": "slide"
    }
   },
   "source": [
    "# NLP and classification tasks\n",
    "\n",
    "The simplest version of sentiment analysis is a binary classification task ―\n",
    "the words of the review provide excellent cues (Martin & Jurafsky, 2019).\n",
    "\n",
    "Consider, for example, the following phrases extracted from positive and negative \n",
    "reviews of movies and restaurants:\n",
    "\n",
    "```{bash}\n",
    "...awesome caramel sauce and sweet toasty almonds. I love this place! \n",
    "...awful pizza and ridiculously overpriced...\n",
    "```\n",
    "\n",
    "Counting an offering's promoters and/or detractors implies classifying reviews\n",
    "into dsicrete classes, such as 'positive' and 'negative'."
   ]
  },
  {
   "cell_type": "markdown",
   "metadata": {
    "slideshow": {
     "slide_type": "subslide"
    }
   },
   "source": [
    "# Classifiers in a nutshell\n",
    "\n",
    "The task of supervised classification is to take an input $x$ and a fixed\n",
    "set of output classes $Y = y_{1}, y_{2}, \\ldots, y_{M}$ and return a predicted \n",
    "class $y \\in Y$.\n",
    "\n",
    "There are two broad familiies of classifiers:\n",
    "+ **Generative classifiers**, like naive Bayes, build a model of how a class could generate some input data:\n",
    "  * given an observation, they return the class most likely to have generated\n",
    "    the observation\n",
    "+ **Discriminative classifiers**, like logistic regression, learn what features \n",
    "  from the input are most useful to discriminate between the different possible \n",
    "  classes\n",
    "\n",
    "Naive Bayes has been widely applied to SA ― let's have a closer look..."
   ]
  }
 ],
 "metadata": {
  "celltoolbar": "Slideshow",
  "kernelspec": {
   "display_name": "Python 3",
   "language": "python",
   "name": "python3"
  },
  "language_info": {
   "codemirror_mode": {
    "name": "ipython",
    "version": 3
   },
   "file_extension": ".py",
   "mimetype": "text/x-python",
   "name": "python",
   "nbconvert_exporter": "python",
   "pygments_lexer": "ipython3",
   "version": "3.9.0"
  },
  "latex_envs": {
   "LaTeX_envs_menu_present": true,
   "autoclose": false,
   "autocomplete": true,
   "bibliofile": "biblio.bib",
   "cite_by": "apalike",
   "current_citInitial": 1,
   "eqLabelWithNumbers": true,
   "eqNumInitial": 1,
   "hotkeys": {
    "equation": "Ctrl-E",
    "itemize": "Ctrl-I"
   },
   "labels_anchors": false,
   "latex_user_defs": false,
   "report_style_numbering": false,
   "user_envs_cfg": false
  },
  "toc": {
   "base_numbering": 1,
   "nav_menu": {},
   "number_sections": false,
   "sideBar": true,
   "skip_h1_title": false,
   "title_cell": "Table of Contents",
   "title_sidebar": "Contents",
   "toc_cell": false,
   "toc_position": {},
   "toc_section_display": true,
   "toc_window_display": false
  },
  "toc-showtags": false,
  "varInspector": {
   "cols": {
    "lenName": 16,
    "lenType": 16,
    "lenVar": 40
   },
   "kernels_config": {
    "python": {
     "delete_cmd_postfix": "",
     "delete_cmd_prefix": "del ",
     "library": "var_list.py",
     "varRefreshCmd": "print(var_dic_list())"
    },
    "r": {
     "delete_cmd_postfix": ") ",
     "delete_cmd_prefix": "rm(",
     "library": "var_list.r",
     "varRefreshCmd": "cat(var_dic_list()) "
    }
   },
   "types_to_exclude": [
    "module",
    "function",
    "builtin_function_or_method",
    "instance",
    "_Feature"
   ],
   "window_display": false
  }
 },
 "nbformat": 4,
 "nbformat_minor": 4
}
