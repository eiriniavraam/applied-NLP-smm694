{
 "cells": [
  {
   "cell_type": "markdown",
   "metadata": {},
   "source": [
    "# Week 5 webinar (part I)\n",
    "\n",
    "+ Sentiment Analysis ― Naive Bayes Classifier (NBC) implementation\n",
    "+ Tone of a sentence"
   ]
  },
  {
   "cell_type": "markdown",
   "metadata": {},
   "source": [
    "# Load TextBlob\n",
    "\n",
    "<img src=\"images/_5.png\" width=\"50%\">"
   ]
  },
  {
   "cell_type": "code",
   "execution_count": 6,
   "metadata": {},
   "outputs": [
    {
     "output_type": "stream",
     "name": "stderr",
     "text": [
      "[nltk_data] Downloading package punkt to /home/simone/nltk_data...\n",
      "[nltk_data]   Unzipping tokenizers/punkt.zip.\n"
     ]
    }
   ],
   "source": [
    "import nltk\n",
    "nltk.download('punkt')\n",
    "import numpy as np\n",
    "from textblob import TextBlob\n",
    "from textblob.classifiers import NaiveBayesClassifier"
   ]
  },
  {
   "cell_type": "markdown",
   "metadata": {},
   "source": [
    "# Fake training set"
   ]
  },
  {
   "cell_type": "code",
   "execution_count": 3,
   "metadata": {},
   "outputs": [],
   "source": [
    "train = [('I love this sandwich.', 'pos'),\n",
    "         ('This is an amazing place!', 'pos'),\n",
    "         ('I feel very good about these beers.', 'pos'),\n",
    "         ('I do not like this restaurant', 'neg'),\n",
    "         ('I am tired of this stuff.', 'neg'),\n",
    "         (\"I can't deal with this\", 'neg'),\n",
    "         (\"My boss is horrible.\", \"neg\")]"
   ]
  },
  {
   "cell_type": "markdown",
   "metadata": {},
   "source": [
    "# Training our NBC"
   ]
  },
  {
   "cell_type": "code",
   "execution_count": 7,
   "metadata": {},
   "outputs": [],
   "source": [
    "cl = NaiveBayesClassifier(train)"
   ]
  },
  {
   "cell_type": "markdown",
   "metadata": {},
   "source": [
    "# Classify an unknown sentence"
   ]
  },
  {
   "cell_type": "code",
   "execution_count": 9,
   "metadata": {},
   "outputs": [
    {
     "output_type": "execute_result",
     "data": {
      "text/plain": [
       "'pos'"
      ]
     },
     "metadata": {},
     "execution_count": 9
    }
   ],
   "source": [
    "cl.classify(\"I feel amazing!\")"
   ]
  },
  {
   "cell_type": "markdown",
   "metadata": {},
   "source": [
    "# Classify unknown sentences nested in a corpus"
   ]
  },
  {
   "cell_type": "code",
   "execution_count": 10,
   "metadata": {},
   "outputs": [
    {
     "output_type": "stream",
     "name": "stdout",
     "text": [
      "\n    =======================================================\n    Sentence        : The beer is good.\n    Estimated class : pos\n    -------------------------------------------------------\n    \n\n    =======================================================\n    Sentence        : But the hangover is horrible.\n    Estimated class : neg\n    -------------------------------------------------------\n    \n"
     ]
    }
   ],
   "source": [
    "'''\n",
    "Note: blob.sentences calls NLTK's sentence tokenizer ('punkt')\n",
    "\n",
    "If needed, download 'punkt' as follows:\n",
    "\n",
    "import nltk\n",
    "nltk.download('punkt')\n",
    "'''\n",
    "\n",
    "blob = TextBlob(\"The beer is good. But the hangover is horrible.\", classifier=cl)\n",
    "\n",
    "for s in blob.sentences:\n",
    "    print(\"\"\"\n",
    "    =======================================================\n",
    "    Sentence        : {}\n",
    "    Estimated class : {}\n",
    "    -------------------------------------------------------\n",
    "    \"\"\".format(s, s.classify()))"
   ]
  },
  {
   "cell_type": "markdown",
   "metadata": {},
   "source": [
    "# Sentiment classification != tone of a sentence"
   ]
  },
  {
   "cell_type": "markdown",
   "metadata": {},
   "source": [
    "Let's consider my favourite restaurant in Florence:\n",
    "\n",
    "<img src=\"images/_6.png\" width=\"50%\">"
   ]
  },
  {
   "cell_type": "markdown",
   "metadata": {},
   "source": [
    "## Two real reviews from TA"
   ]
  },
  {
   "cell_type": "code",
   "execution_count": 11,
   "metadata": {},
   "outputs": [],
   "source": [
    "r_0 = \"\"\"We were proposed a shortened tasting menu and felt \n",
    "         short-changed by the tiny portions that we were served. \n",
    "         It's a shame because the food was excellent but we left \n",
    "         feeling hungry. To give you an example, my desert was \n",
    "         one teaspoon of chocolate with nothing else on the plate. \n",
    "         Not great considering the high price. On a different note, \n",
    "         they were very accommodating to our allergies (gluten and \n",
    "         dairy) which was nice to see.\"\"\""
   ]
  },
  {
   "cell_type": "code",
   "execution_count": 12,
   "metadata": {},
   "outputs": [],
   "source": [
    "r_1 = \"\"\"Tasting menu with wine pairings was interesting, well \n",
    "         paced, well explained, generously portioned, relaxing, and \n",
    "         delicious. A highlight meal of our trip to Florence. It’s \n",
    "         a beautiful, rustic spot. We had the table nearest the \n",
    "         kitchen and that added to the fun. Our main server, \n",
    "         Josephine, was knowledgeable, had a sense of humor, \n",
    "         and enhanced our positive experience. The other servers \n",
    "         including the wine server were also knowledgeable and \n",
    "         polite. We never felt rushed or watched: the service \n",
    "         felt organic and well-paced.\"\"\""
   ]
  },
  {
   "cell_type": "markdown",
   "metadata": {},
   "source": [
    "## Polarity and subjectivity"
   ]
  },
  {
   "cell_type": "code",
   "execution_count": 35,
   "metadata": {},
   "outputs": [
    {
     "name": "stdout",
     "output_type": "stream",
     "text": [
      "\n",
      "    ==============================================\n",
      "    Review       : We were proposed a s ...\n",
      "    Polarity     : 0.2\n",
      "    Subjectivity : 0.59\n",
      "    ----------------------------------------------\n",
      "    \n",
      "\n",
      "    ==============================================\n",
      "    Review       : Tasting menu with wi ...\n",
      "    Polarity     : 0.42\n",
      "    Subjectivity : 0.56\n",
      "    ----------------------------------------------\n",
      "    \n"
     ]
    }
   ],
   "source": [
    "for r in [r_0, r_1]:\n",
    "    blob = TextBlob(r)\n",
    "    tone = blob.sentiment\n",
    "    print(\"\"\"\n",
    "    ==============================================\n",
    "    Review       : {} ...\n",
    "    Polarity     : {}\n",
    "    Subjectivity : {}\n",
    "    ----------------------------------------------\n",
    "    \"\"\".format(r[0:20],\n",
    "               np.round(tone.polarity, 2),\n",
    "               np.round(tone.subjectivity, 2)))"
   ]
  },
  {
   "cell_type": "markdown",
   "metadata": {},
   "source": [
    "## Sentiment polarity and subjectivity"
   ]
  },
  {
   "cell_type": "code",
   "execution_count": 36,
   "metadata": {},
   "outputs": [
    {
     "name": "stdout",
     "output_type": "stream",
     "text": [
      "\n",
      "        =======================================================\n",
      "        Sentence     : We were proposed a shortened tasting menu and felt \n",
      "         short-changed by the tiny portions that we were served.\n",
      "        Polarity     : 0.0\n",
      "        Subjectivity : 0.5\n",
      "        -------------------------------------------------------\n",
      "        \n",
      "\n",
      "        =======================================================\n",
      "        Sentence     : It's a shame because the food was excellent but we left \n",
      "         feeling hungry.\n",
      "        Polarity     : 0.5\n",
      "        Subjectivity : 0.5\n",
      "        -------------------------------------------------------\n",
      "        \n",
      "\n",
      "        =======================================================\n",
      "        Sentence     : To give you an example, my desert was \n",
      "         one teaspoon of chocolate with nothing else on the plate.\n",
      "        Polarity     : 0.0\n",
      "        Subjectivity : 0.0\n",
      "        -------------------------------------------------------\n",
      "        \n",
      "\n",
      "        =======================================================\n",
      "        Sentence     : Not great considering the high price.\n",
      "        Polarity     : -0.12\n",
      "        Subjectivity : 0.64\n",
      "        -------------------------------------------------------\n",
      "        \n",
      "\n",
      "        =======================================================\n",
      "        Sentence     : On a different note, \n",
      "         they were very accommodating to our allergies (gluten and \n",
      "         dairy) which was nice to see.\n",
      "        Polarity     : 0.27\n",
      "        Subjectivity : 0.63\n",
      "        -------------------------------------------------------\n",
      "        \n",
      "\n",
      "        =======================================================\n",
      "        Sentence     : Tasting menu with wine pairings was interesting, well \n",
      "         paced, well explained, generously portioned, relaxing, and \n",
      "         delicious.\n",
      "        Polarity     : 0.75\n",
      "        Subjectivity : 0.75\n",
      "        -------------------------------------------------------\n",
      "        \n",
      "\n",
      "        =======================================================\n",
      "        Sentence     : A highlight meal of our trip to Florence.\n",
      "        Polarity     : 0.0\n",
      "        Subjectivity : 0.0\n",
      "        -------------------------------------------------------\n",
      "        \n",
      "\n",
      "        =======================================================\n",
      "        Sentence     : It’s \n",
      "         a beautiful, rustic spot.\n",
      "        Polarity     : 0.85\n",
      "        Subjectivity : 1.0\n",
      "        -------------------------------------------------------\n",
      "        \n",
      "\n",
      "        =======================================================\n",
      "        Sentence     : We had the table nearest the \n",
      "         kitchen and that added to the fun.\n",
      "        Polarity     : 0.3\n",
      "        Subjectivity : 0.2\n",
      "        -------------------------------------------------------\n",
      "        \n",
      "\n",
      "        =======================================================\n",
      "        Sentence     : Our main server, \n",
      "         Josephine, was knowledgeable, had a sense of humor, \n",
      "         and enhanced our positive experience.\n",
      "        Polarity     : 0.2\n",
      "        Subjectivity : 0.44\n",
      "        -------------------------------------------------------\n",
      "        \n",
      "\n",
      "        =======================================================\n",
      "        Sentence     : The other servers \n",
      "         including the wine server were also knowledgeable and \n",
      "         polite.\n",
      "        Polarity     : -0.12\n",
      "        Subjectivity : 0.38\n",
      "        -------------------------------------------------------\n",
      "        \n",
      "\n",
      "        =======================================================\n",
      "        Sentence     : We never felt rushed or watched: the service \n",
      "         felt organic and well-paced.\n",
      "        Polarity     : 0.0\n",
      "        Subjectivity : 0.0\n",
      "        -------------------------------------------------------\n",
      "        \n"
     ]
    }
   ],
   "source": [
    "for r in [r_0, r_1]:\n",
    "    blob = TextBlob(r)\n",
    "    for s in blob.sentences:\n",
    "        print(\"\"\"\n",
    "        =======================================================\n",
    "        Sentence     : {}\n",
    "        Polarity     : {}\n",
    "        Subjectivity : {}\n",
    "        -------------------------------------------------------\n",
    "        \"\"\".format(s,\n",
    "                   np.round(s.sentiment.polarity, 2),\n",
    "                   np.round(s.sentiment.subjectivity, 2)))"
   ]
  }
 ],
 "metadata": {
  "kernelspec": {
   "display_name": "Python 3",
   "language": "python",
   "name": "python3"
  }
 },
 "nbformat": 4,
 "nbformat_minor": 4
}