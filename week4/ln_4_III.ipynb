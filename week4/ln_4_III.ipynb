{
 "cells": [
  {
   "cell_type": "markdown",
   "metadata": {
    "slideshow": {
     "slide_type": "slide"
    }
   },
   "source": [
    "# Session 4, part III\n",
    "\n",
    "## – Topic Modeling: scope and goals\n",
    "\n",
    "<img src=\"images/cover.jpg\" width=\"60%\">"
   ]
  },
  {
   "cell_type": "markdown",
   "metadata": {
    "slideshow": {
     "slide_type": "slide"
    }
   },
   "source": [
    "## Main steps in a TM project\n",
    "\n",
    "<img src=\"images/_3.png\" width=\"60%\">"
   ]
  },
  {
   "cell_type": "markdown",
   "metadata": {
    "slideshow": {
     "slide_type": "subslide"
    }
   },
   "source": [
    "## How do TM steps relate to each other?\n",
    "\n",
    "- The above displayed visualization offers a stripped-down representation of the TM process\n",
    "\n",
    "- The various steps can be linked in several ways"
   ]
  },
  {
   "cell_type": "markdown",
   "metadata": {
    "slideshow": {
     "slide_type": "subslide"
    }
   },
   "source": [
    "## Rendering of artifacts can be absent\n",
    "\n",
    "<img src=\"images/_9.png\" width=\"60%\">\n",
    "\n",
    "Such a scenario materializes when:\n",
    "\n",
    "- the goal of TM is producing a set of features to use in a statistical/ML model\n",
    "- analysts are not interested in the meanings associated with topics"
   ]
  },
  {
   "cell_type": "markdown",
   "metadata": {
    "slideshow": {
     "slide_type": "subslide"
    }
   },
   "source": [
    "## Rendering of artifacts can drive rendering of topics\n",
    "\n",
    "<img src=\"images/_10.png\" width=\"60%\">\n",
    "\n",
    "Such a scenario materializes when:\n",
    "\n",
    "- the goal is measuring a construct of interest (e.g., measuring a company's engagement with R&D activities using financial analysts' reports)\n",
    "- analysts want to emphasize the meanings associated with one or multiple topics (e.g., the set of words associated with the topic that is supposed a company's extant of engagement with R&D activities)"
   ]
  },
  {
   "cell_type": "markdown",
   "metadata": {
    "slideshow": {
     "slide_type": "subslide"
    }
   },
   "source": [
    "## Iterative approach\n",
    "\n",
    "<img src=\"images/_11.png\" width=\"60%\">\n",
    "\n",
    "Oftentimes, analysts use an iterative approach — they retain a model with $n_{i}$ topics, then, they try make sense out of topics; every interpretation informs the next topic model wherein $n_{j}$ topics are retained (see [DiMaggio (2015 — Big Data & Society)](https://journals.sagepub.com/doi/10.1177/2053951715602908)).\n",
    "\n",
    "Such a scenario materializes when:\n",
    "\n",
    "- the goal is measuring a construct of interest that is novel or ill-defined (e.g., a company's adoption of Deep Learning tools)\n",
    "- analysts want to emphasize the meanings associated with one or multiple topics (e.g., the set of words associated with the topic that is supposed a company's extant of engagement with R&D activities)"
   ]
  },
  {
   "cell_type": "markdown",
   "metadata": {
    "slideshow": {
     "slide_type": "slide"
    }
   },
   "source": [
    "## How do analysts use TM in the context of business and management projects?"
   ]
  },
  {
   "cell_type": "markdown",
   "metadata": {
    "slideshow": {
     "slide_type": "fragment"
    }
   },
   "source": [
    "## Let's survey the extant literature!!"
   ]
  },
  {
   "cell_type": "markdown",
   "metadata": {
    "slideshow": {
     "slide_type": "subslide"
    }
   },
   "source": [
    "## Sampling TM studies\n",
    "\n",
    "__Keywords:__ ‘topic model*,’ ‘natural language processing,’ ‘nlp,’ ‘latent dirichlet,’ ‘LDA’\n",
    "\n",
    "__Journals:__ Academy of Management Journal, Administrative Science Quarterly, Entrepreneurship Theory and Practice, Industrial and Corporate Change, Information Systems Research, Journal of Business Venturing, Journal of Management, Journal of Management Studies, Journal of Product Innovation Management, Leadership Quarterly, Management Science, MIS Quarterly, Organization Science, Organization Studies, Research Policy, Strategic Entrepreneurship Journal, Strategic Management Journal, Strategic Organization."
   ]
  },
  {
   "cell_type": "markdown",
   "metadata": {
    "slideshow": {
     "slide_type": "subslide"
    }
   },
   "source": [
    "## Inter-temporal distribution of studies\n",
    "\n",
    "<img src=\"images/_12.png\" width=\"60%\">"
   ]
  },
  {
   "cell_type": "markdown",
   "metadata": {
    "slideshow": {
     "slide_type": "subslide"
    }
   },
   "source": [
    "## Grouping studies with respect to their scope and goal\n",
    "\n",
    "<img src=\"images/_13.png\" width=\"60%\">"
   ]
  },
  {
   "cell_type": "markdown",
   "metadata": {
    "slideshow": {
     "slide_type": "subslide"
    }
   },
   "source": [
    "## (Cont'd)\n",
    "<img src=\"images/_14.png\" width=\"70%\">"
   ]
  },
  {
   "cell_type": "markdown",
   "metadata": {
    "slideshow": {
     "slide_type": "subslide"
    }
   },
   "source": [
    "## Examples: No substantive interest in semantics - classification\n",
    "\n",
    "<img src=\"images/_15.png\" width=\"70%\">"
   ]
  },
  {
   "cell_type": "markdown",
   "metadata": {
    "slideshow": {
     "slide_type": "subslide"
    }
   },
   "source": [
    "## Examples: No substantive interest in semantics - qual. vars.\n",
    "\n",
    "<img src=\"images/_16.png\" width=\"70%\">"
   ]
  },
  {
   "cell_type": "markdown",
   "metadata": {
    "slideshow": {
     "slide_type": "subslide"
    }
   },
   "source": [
    "## Examples: Substantive interest in semantics - individual topics\n",
    "\n",
    "<img src=\"images/_17.png\" width=\"70%\">"
   ]
  },
  {
   "cell_type": "markdown",
   "metadata": {
    "slideshow": {
     "slide_type": "subslide"
    }
   },
   "source": [
    "## Examples: Substantive interest in semantics - topologies of topics\n",
    "\n",
    "<img src=\"images/_18.png\" width=\"70%\">"
   ]
  }
 ],
 "metadata": {
  "celltoolbar": "Slideshow",
  "kernelspec": {
   "display_name": "Python 3",
   "language": "python",
   "name": "python3"
  },
  "language_info": {
   "codemirror_mode": {
    "name": "ipython",
    "version": 3
   },
   "file_extension": ".py",
   "mimetype": "text/x-python",
   "name": "python",
   "nbconvert_exporter": "python",
   "pygments_lexer": "ipython3",
   "version": "3.8.5"
  },
  "varInspector": {
   "cols": {
    "lenName": 16,
    "lenType": 16,
    "lenVar": 40
   },
   "kernels_config": {
    "python": {
     "delete_cmd_postfix": "",
     "delete_cmd_prefix": "del ",
     "library": "var_list.py",
     "varRefreshCmd": "print(var_dic_list())"
    },
    "r": {
     "delete_cmd_postfix": ") ",
     "delete_cmd_prefix": "rm(",
     "library": "var_list.r",
     "varRefreshCmd": "cat(var_dic_list()) "
    }
   },
   "types_to_exclude": [
    "module",
    "function",
    "builtin_function_or_method",
    "instance",
    "_Feature"
   ],
   "window_display": false
  }
 },
 "nbformat": 4,
 "nbformat_minor": 5
}
