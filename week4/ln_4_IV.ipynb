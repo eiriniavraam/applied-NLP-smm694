{
 "cells": [
  {
   "cell_type": "markdown",
   "metadata": {
    "slideshow": {
     "slide_type": "slide"
    }
   },
   "source": [
    "# Session 4, part IV\n",
    "\n",
    "## – Topic Modeling: vignettes\n",
    "\n",
    "<img src=\"images/cover.jpg\" width=\"60%\">"
   ]
  },
  {
   "cell_type": "markdown",
   "metadata": {
    "slideshow": {
     "slide_type": "slide"
    }
   },
   "source": [
    "## Let's assume we've got a text corpus containing song lyrics"
   ]
  },
  {
   "cell_type": "markdown",
   "metadata": {
    "slideshow": {
     "slide_type": "fragment"
    }
   },
   "source": [
    "### – What are the possible angles from which to analyze the corpus?"
   ]
  },
  {
   "cell_type": "markdown",
   "metadata": {
    "slideshow": {
     "slide_type": "fragment"
    }
   },
   "source": [
    "### – How does the rendering of topics change across different angles?"
   ]
  },
  {
   "cell_type": "markdown",
   "metadata": {
    "slideshow": {
     "slide_type": "fragment"
    }
   },
   "source": [
    "- Let’s consider some vignettes and see, case-by-case, how to plausibly assess the validity of the TM at hand\n",
    "- Mainly, I suggest ‘how to best render topics’ depends on the goal(s) analysts want to pursue using TM\n",
    "- Each vignette is associated with a particular scope-goal combination"
   ]
  },
  {
   "cell_type": "markdown",
   "metadata": {
    "slideshow": {
     "slide_type": "subslide"
    }
   },
   "source": [
    "## Grouping TM studies around scope and goal\n",
    "\n",
    "<img src=\"images/_13.png\" width=\"60%\">"
   ]
  },
  {
   "cell_type": "markdown",
   "metadata": {
    "slideshow": {
     "slide_type": "subslide"
    }
   },
   "source": [
    "## Vig. 1: No substantive semantic interest, classification"
   ]
  },
  {
   "cell_type": "markdown",
   "metadata": {
    "cell_style": "split",
    "slideshow": {
     "slide_type": "fragment"
    }
   },
   "source": [
    "__Study:__ organization and functioning of 'open' categorization system\n",
    "Setting: Rate Your Music\n",
    "\n",
    "__Issue:__ it is difficult to separate the features that make a category creating song from the effects of social interactions developing within the online community\n",
    "\n",
    "__Role of TM:__ clustering songs \n",
    "\n",
    "__Suggestions to render topics__:\n",
    "- sample multiple topic models with high numbers of topics\n",
    "- retain the topic model with the best statistical fit"
   ]
  },
  {
   "cell_type": "markdown",
   "metadata": {
    "cell_style": "split",
    "slideshow": {
     "slide_type": "fragment"
    }
   },
   "source": [
    "<img src=\"images/_19.png\" width=\"100%\">"
   ]
  },
  {
   "cell_type": "markdown",
   "metadata": {
    "slideshow": {
     "slide_type": "subslide"
    }
   },
   "source": [
    "## Vig. 2: No substantive semantic interest, qualitative variables"
   ]
  },
  {
   "cell_type": "markdown",
   "metadata": {
    "cell_style": "split",
    "slideshow": {
     "slide_type": "fragment"
    }
   },
   "source": [
    "__Study:__ popularity of pop cultural products [e.g., Askin & Mauskapf, 2017 — ASR]\n",
    "\n",
    "__Setting:__ Billboard\n",
    "\n",
    "__Issue:__ classical OVB problem\n",
    "\n",
    "__Role of TM:__ ceteris paribus comparison in regression settings.\n",
    "\n",
    "__Suggestions to render topics:__\n",
    "- sample multiple topic models with high numbers of topics\n",
    "- retain the topic model with the best statistical fit\n",
    "metrics that highlight topic distinctiveness have priority"
   ]
  },
  {
   "cell_type": "markdown",
   "metadata": {
    "cell_style": "split",
    "slideshow": {
     "slide_type": "fragment"
    }
   },
   "source": [
    "<img src=\"images/_20.png\" width=\"100%\">"
   ]
  },
  {
   "cell_type": "markdown",
   "metadata": {
    "slideshow": {
     "slide_type": "subslide"
    }
   },
   "source": [
    "## Vig. 3: Substantive interest in semantics, individual topics"
   ]
  },
  {
   "cell_type": "markdown",
   "metadata": {
    "cell_style": "split",
    "slideshow": {
     "slide_type": "fragment"
    }
   },
   "source": [
    "__Study:__ category emergence Setting: 1970’s punk scene\n",
    "\n",
    "__Issue:__ detecting the features behind a new style/philosophy\n",
    "\n",
    "__Role of TM:__ capturing the linguistic manifestations of latent phenomena (e.g., the DIY ethos)\n",
    "\n",
    "__Suggestions to render topics:__\n",
    "- sample models with reasonably low numbers of topics\n",
    "- semantic and external evaluations should have priority"
   ]
  },
  {
   "cell_type": "markdown",
   "metadata": {
    "cell_style": "split",
    "slideshow": {
     "slide_type": "fragment"
    }
   },
   "source": [
    "<img src=\"images/_21.png\" width=\"100%\">"
   ]
  },
  {
   "cell_type": "markdown",
   "metadata": {
    "slideshow": {
     "slide_type": "subslide"
    }
   },
   "source": [
    "## Vig. 4: Sub. interest in semantics, focus on topologies"
   ]
  },
  {
   "cell_type": "markdown",
   "metadata": {
    "cell_style": "split",
    "slideshow": {
     "slide_type": "fragment"
    }
   },
   "source": [
    "__Study:__ technology and systems of cultural production\n",
    "\n",
    "__Setting:__ early 1980’s, advent of synths in the recording music sector Issue: appreciating the effect of technological constraints on creativity/novelty emergence\n",
    "\n",
    "__Role of TM:__ comparing and contrasting the distribution of meanings in the cultural production system\n",
    "\n",
    "__Suggestions to render topics:__\n",
    "- sample models with reasonably low numbers of topics\n",
    "- semantic and external evaluations should have priority\n",
    "human (expert) judgements is"
   ]
  },
  {
   "cell_type": "markdown",
   "metadata": {
    "cell_style": "split",
    "slideshow": {
     "slide_type": "fragment"
    }
   },
   "source": [
    "<img src=\"images/_22.png\" width=\"100%\">"
   ]
  }
 ],
 "metadata": {
  "celltoolbar": "Slideshow",
  "kernelspec": {
   "display_name": "Python 3",
   "language": "python",
   "name": "python3"
  },
  "language_info": {
   "codemirror_mode": {
    "name": "ipython",
    "version": 3
   },
   "file_extension": ".py",
   "mimetype": "text/x-python",
   "name": "python",
   "nbconvert_exporter": "python",
   "pygments_lexer": "ipython3",
   "version": "3.8.5"
  },
  "varInspector": {
   "cols": {
    "lenName": 16,
    "lenType": 16,
    "lenVar": 40
   },
   "kernels_config": {
    "python": {
     "delete_cmd_postfix": "",
     "delete_cmd_prefix": "del ",
     "library": "var_list.py",
     "varRefreshCmd": "print(var_dic_list())"
    },
    "r": {
     "delete_cmd_postfix": ") ",
     "delete_cmd_prefix": "rm(",
     "library": "var_list.r",
     "varRefreshCmd": "cat(var_dic_list()) "
    }
   },
   "types_to_exclude": [
    "module",
    "function",
    "builtin_function_or_method",
    "instance",
    "_Feature"
   ],
   "window_display": false
  }
 },
 "nbformat": 4,
 "nbformat_minor": 5
}
