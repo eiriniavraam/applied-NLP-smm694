{
 "cells": [
  {
   "cell_type": "markdown",
   "metadata": {
    "slideshow": {
     "slide_type": "slide"
    }
   },
   "source": [
    "# Session 4, part II\n",
    "\n",
    "## – Topic Modeling: description of the individual steps\n",
    "\n",
    "<img src=\"images/cover.jpg\" width=\"60%\">"
   ]
  },
  {
   "cell_type": "markdown",
   "metadata": {
    "slideshow": {
     "slide_type": "slide"
    }
   },
   "source": [
    "## The analytical framework behind TM\n",
    "\n",
    "<img src=\"images/_2.png\" width=\"60%\">\n",
    "\n",
    "Source: [Blei, 2010](http://www.cs.columbia.edu/~blei/papers/Blei2011.pdf)"
   ]
  },
  {
   "cell_type": "markdown",
   "metadata": {
    "slideshow": {
     "slide_type": "slide"
    }
   },
   "source": [
    "## Main steps in a TM project\n",
    "\n",
    "<img src=\"images/_3.png\" width=\"60%\">"
   ]
  },
  {
   "cell_type": "markdown",
   "metadata": {
    "slideshow": {
     "slide_type": "slide"
    }
   },
   "source": [
    "## Let's focus on the individual steps"
   ]
  },
  {
   "cell_type": "markdown",
   "metadata": {
    "slideshow": {
     "slide_type": "subslide"
    }
   },
   "source": [
    "## Rendering of corpora\n",
    "\n",
    "Before TM, the text MUST traverse an NLP pipeline.\n",
    "\n",
    "<img src=\"images/_5.png\" width=\"60%\">\n",
    "\n",
    "Pay attention:\n",
    "- The outcome of the NLP pipeline is a function of the statistical model of the natural language adopted by the researcher.\n",
    "- Picking-up the right model requires substantial institutional knowledge\n",
    "- Standard models of the language may not fit the data at hand — this can jeopardize the validity of topic modeling estimates."
   ]
  },
  {
   "cell_type": "markdown",
   "metadata": {
    "slideshow": {
     "slide_type": "subslide"
    }
   },
   "source": [
    "## Rendering of topics"
   ]
  },
  {
   "cell_type": "markdown",
   "metadata": {
    "cell_style": "split",
    "slideshow": {
     "slide_type": "fragment"
    }
   },
   "source": [
    "- Rendering of topics equates to creating a graph connecting the words observed in a corpus of text with some latent variables.\n",
    "\n",
    "- Since the number of words is given, the critical choice concerns the number of latent variables to retain, i.e., the topics that are supposed to generate the observed documents."
   ]
  },
  {
   "cell_type": "markdown",
   "metadata": {
    "cell_style": "split",
    "slideshow": {
     "slide_type": "fragment"
    }
   },
   "source": [
    "<img src=\"images/_6.png\" width=\"60%\">\n",
    "\n",
    "Representation of a topic-term graph"
   ]
  },
  {
   "cell_type": "markdown",
   "metadata": {
    "slideshow": {
     "slide_type": "subslide"
    }
   },
   "source": [
    "## Rendering of topics – caveats"
   ]
  },
  {
   "cell_type": "markdown",
   "metadata": {
    "cell_style": "split",
    "slideshow": {
     "slide_type": "fragment"
    }
   },
   "source": [
    "The evaluation of topic models is a slippery terrain:\n",
    "\n",
    "- plethora of approaches and metrics\n",
    "\n",
    "- fluid conversation involving staticians, data scientists, and business/financial analysts"
   ]
  },
  {
   "cell_type": "markdown",
   "metadata": {
    "cell_style": "split",
    "slideshow": {
     "slide_type": "fragment"
    }
   },
   "source": [
    "<img src=\"images/_7.png\" width=\"100%\">"
   ]
  },
  {
   "cell_type": "markdown",
   "metadata": {
    "slideshow": {
     "slide_type": "subslide"
    }
   },
   "source": [
    "## Rendering of topics – evaluation metrics\n",
    "\n",
    "| Approach   | The selection of the number of topics to retain depends on... |\n",
    "| --------   | --------- |\n",
    "| Heuristics | ... rule of thumb drives the  (e.g., 100, 250, 500)|\n",
    "| Eyeballing | ... humans inspecting the visualizations of alternative TMs (e.g., using word clouds) |\n",
    "| Semantic   | ... humans analyzing the semantic relationships involving words, topics, and documents |\n",
    "| Statistical| ... statistical fit indicators (e.g., coherence score) |\n",
    "\n",
    "[Go to the companion document surveying TM evaluation metrics >> ](https://github.com/simoneSantoni/applied-NLP-smm694/blob/bf1ec13642637f9343901194a3ad0c66779b1f8c/week4/TM_evaluation_metrics.pdf)"
   ]
  },
  {
   "cell_type": "markdown",
   "metadata": {
    "slideshow": {
     "slide_type": "subslide"
    }
   },
   "source": [
    "## Rendering of artifacts – compendium\n",
    "\n",
    "<img src=\"images/_8.png\" width=\"60%\">"
   ]
  },
  {
   "cell_type": "markdown",
   "metadata": {
    "slideshow": {
     "slide_type": "subslide"
    }
   },
   "source": [
    "## Rendering of artifacts\n",
    "\n",
    "In this step, analysts make sense of the mixture of words that have been discovered.\n",
    "\n",
    "Possible activities are:\n",
    "\n",
    "- attaching meaningful labels to mixtures of words (e.g., ‘ML’, ‘DL’, ‘analytics’, ‘HR’, ‘people’, ‘management’ words that co-occur in a same topic seems related to a ‘people analytics’ topic)\n",
    "\n",
    "- appreciating how topics map onto documents with different attributes (e.g., ‘old documents’, ‘new documents’, documents concerning domestic vs global firms, documents concerning large vs small companies)\n",
    "- appreciating how topics are connected — that is, exploring the topology of topics"
   ]
  },
  {
   "cell_type": "code",
   "execution_count": null,
   "metadata": {},
   "outputs": [],
   "source": []
  }
 ],
 "metadata": {
  "celltoolbar": "Slideshow",
  "kernelspec": {
   "display_name": "Python 3",
   "language": "python",
   "name": "python3"
  },
  "language_info": {
   "codemirror_mode": {
    "name": "ipython",
    "version": 3
   },
   "file_extension": ".py",
   "mimetype": "text/x-python",
   "name": "python",
   "nbconvert_exporter": "python",
   "pygments_lexer": "ipython3",
   "version": "3.8.5"
  },
  "varInspector": {
   "cols": {
    "lenName": 16,
    "lenType": 16,
    "lenVar": 40
   },
   "kernels_config": {
    "python": {
     "delete_cmd_postfix": "",
     "delete_cmd_prefix": "del ",
     "library": "var_list.py",
     "varRefreshCmd": "print(var_dic_list())"
    },
    "r": {
     "delete_cmd_postfix": ") ",
     "delete_cmd_prefix": "rm(",
     "library": "var_list.r",
     "varRefreshCmd": "cat(var_dic_list()) "
    }
   },
   "types_to_exclude": [
    "module",
    "function",
    "builtin_function_or_method",
    "instance",
    "_Feature"
   ],
   "window_display": false
  }
 },
 "nbformat": 4,
 "nbformat_minor": 5
}
